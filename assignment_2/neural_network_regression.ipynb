{
 "cells": [
  {
   "cell_type": "code",
   "execution_count": 10,
   "id": "599e020c-e987-496b-aca4-ff551f4c5872",
   "metadata": {},
   "outputs": [
    {
     "name": "stdout",
     "output_type": "stream",
     "text": [
      "<class 'pandas.core.frame.DataFrame'>\n",
      "RangeIndex: 414 entries, 0 to 413\n",
      "Data columns (total 8 columns):\n",
      " #   Column                                  Non-Null Count  Dtype  \n",
      "---  ------                                  --------------  -----  \n",
      " 0   No                                      414 non-null    int64  \n",
      " 1   X1 transaction date                     414 non-null    float64\n",
      " 2   X2 house age                            414 non-null    float64\n",
      " 3   X3 distance to the nearest MRT station  414 non-null    float64\n",
      " 4   X4 number of convenience stores         414 non-null    int64  \n",
      " 5   X5 latitude                             414 non-null    float64\n",
      " 6   X6 longitude                            414 non-null    float64\n",
      " 7   Y house price of unit area              414 non-null    float64\n",
      "dtypes: float64(6), int64(2)\n",
      "memory usage: 26.0 KB\n",
      "None\n",
      "   No  X1 transaction date  X2 house age  \\\n",
      "0   1          2012.916667          32.0   \n",
      "1   2          2012.916667          19.5   \n",
      "2   3          2013.583333          13.3   \n",
      "3   4          2013.500000          13.3   \n",
      "4   5          2012.833333           5.0   \n",
      "\n",
      "   X3 distance to the nearest MRT station  X4 number of convenience stores  \\\n",
      "0                                84.87882                               10   \n",
      "1                               306.59470                                9   \n",
      "2                               561.98450                                5   \n",
      "3                               561.98450                                5   \n",
      "4                               390.56840                                5   \n",
      "\n",
      "   X5 latitude  X6 longitude  Y house price of unit area  \n",
      "0     24.98298     121.54024                        37.9  \n",
      "1     24.98034     121.53951                        42.2  \n",
      "2     24.98746     121.54391                        47.3  \n",
      "3     24.98746     121.54391                        54.8  \n",
      "4     24.97937     121.54245                        43.1  \n",
      "               No  X1 transaction date  X2 house age  \\\n",
      "count  414.000000           414.000000    414.000000   \n",
      "mean   207.500000          2013.148953     17.712560   \n",
      "std    119.655756             0.281995     11.392485   \n",
      "min      1.000000          2012.666667      0.000000   \n",
      "25%    104.250000          2012.916667      9.025000   \n",
      "50%    207.500000          2013.166667     16.100000   \n",
      "75%    310.750000          2013.416667     28.150000   \n",
      "max    414.000000          2013.583333     43.800000   \n",
      "\n",
      "       X3 distance to the nearest MRT station  \\\n",
      "count                              414.000000   \n",
      "mean                              1083.885689   \n",
      "std                               1262.109595   \n",
      "min                                 23.382840   \n",
      "25%                                289.324800   \n",
      "50%                                492.231300   \n",
      "75%                               1454.279000   \n",
      "max                               6488.021000   \n",
      "\n",
      "       X4 number of convenience stores  X5 latitude  X6 longitude  \\\n",
      "count                       414.000000   414.000000    414.000000   \n",
      "mean                          4.094203    24.969030    121.533361   \n",
      "std                           2.945562     0.012410      0.015347   \n",
      "min                           0.000000    24.932070    121.473530   \n",
      "25%                           1.000000    24.963000    121.528085   \n",
      "50%                           4.000000    24.971100    121.538630   \n",
      "75%                           6.000000    24.977455    121.543305   \n",
      "max                          10.000000    25.014590    121.566270   \n",
      "\n",
      "       Y house price of unit area  \n",
      "count                  414.000000  \n",
      "mean                    37.980193  \n",
      "std                     13.606488  \n",
      "min                      7.600000  \n",
      "25%                     27.700000  \n",
      "50%                     38.450000  \n",
      "75%                     46.600000  \n",
      "max                    117.500000  \n"
     ]
    }
   ],
   "source": [
    "# Importar las librearias necesarias\n",
    "import pandas as pd\n",
    "import numpy as np\n",
    "import tensorflow as tf\n",
    "import random as rn\n",
    "import seaborn as sns\n",
    "import matplotlib.pyplot as plt\n",
    "from sklearn.model_selection import train_test_split\n",
    "from itertools import product\n",
    "\n",
    "# Carga del conjunto de datos desde un archivo Excel.\n",
    "market_data = pd.read_excel(r'real-estate-valuation.xlsx')\n",
    "\n",
    "# Visualización de información básica sobre el conjunto de datos\n",
    "print(market_data.info())\n",
    "print(market_data.head())\n",
    "print(market_data.describe())"
   ]
  },
  {
   "cell_type": "code",
   "execution_count": 11,
   "id": "1d9f492c-22cc-4ed3-9c7f-9855288e5975",
   "metadata": {},
   "outputs": [],
   "source": [
    "# Renombrar las columnas del conjunto de datos para facilitar su uso.\n",
    "market_data = market_data.rename(columns={'X1 transaction date': 'transaction date',                 \n",
    "                                          'X2 house age': 'house age',                            \n",
    "                                          'X3 distance to the nearest MRT station': 'distance to the nearest MRT station',\n",
    "                                          'X4 number of convenience stores': 'number of convenience stores',\n",
    "                                          'X5 latitude': 'latitude',                \n",
    "                                          'X6 longitude': 'longitude',                 \n",
    "                                          'Y house price of unit area': 'house price of unit area'})"
   ]
  },
  {
   "cell_type": "code",
   "execution_count": 12,
   "id": "abbef899-a5b1-4103-8985-5b148f299f57",
   "metadata": {},
   "outputs": [],
   "source": [
    "# Configuración de la semilla para reproducibilidad.\n",
    "seed = 1\n",
    "tf.random.set_seed(seed)\n",
    "rn.seed(seed)\n",
    "np.random.seed(seed)\n",
    "tf.config.experimental.enable_op_determinism()\n",
    "\n",
    "# Preparación de los datos: separación en características (X) y variable objetivo (y).\n",
    "X = market_data.drop(['No'], axis=1)\n",
    "y = market_data['house price of unit area']\n",
    "\n",
    "# Dividimos los datos en conjuntos de entrenamiento y prueba\n",
    "X_train, X_test, y_train, y_test = train_test_split(X, y, test_size=0.2, random_state=seed)"
   ]
  },
  {
   "cell_type": "code",
   "execution_count": 13,
   "id": "eab612e8-bcdf-4a4f-955e-3da93811f7f2",
   "metadata": {},
   "outputs": [
    {
     "name": "stdout",
     "output_type": "stream",
     "text": [
      "Best Parameters: Neurons=20, Learning Rate=0.1, Batch Size=16, Epochs=75\n",
      "Best Validation Loss: 0.27947139739990234\n"
     ]
    }
   ],
   "source": [
    "neurons_list = [20, 30, 40, 50, 60] # Número de neuronas en las capas ocultas.\n",
    "learning_rate_list = [0.001, 0.01, 0.1] # Tasa de aprendizaje.\n",
    "batch_size_list = [16, 32, 64] # Tamaño del lote.\n",
    "epochs_list = [25, 50, 75, 100] # Número de épocas.\n",
    "\n",
    "# Generación de todas las combinaciones posibles de hiperparámetros.\n",
    "param_grid = list(product(neurons_list, learning_rate_list, batch_size_list, epochs_list))\n",
    "\n",
    "best_params = None\n",
    "best_loss = np.inf\n",
    "\n",
    "# Búsqueda de los mejores hiperparámetros.\n",
    "for neurons, learning_rate, batch_size, epochs in param_grid:\n",
    "    # Definición de la arquitectura de la red neuronal.\n",
    "    neural_network = tf.keras.Sequential([\n",
    "        # Capa de entrada con forma igual a las características.\n",
    "        tf.keras.Input(shape=(X_train.shape[1],)),\n",
    "        tf.keras.layers.Dense(neurons, activation='relu', kernel_initializer=tf.keras.initializers.HeNormal(seed=seed)), # Capa oculta.\n",
    "        tf.keras.layers.Dense(neurons, activation='relu', kernel_initializer=tf.keras.initializers.HeNormal(seed=seed)), # Otra capa oculta.\n",
    "        tf.keras.layers.Dense(1, kernel_initializer=tf.keras.initializers.HeNormal(seed=seed)) # Capa de salida.\n",
    "    ])\n",
    "\n",
    "    # Compilación del modelo con función de pérdida y optimizador.\n",
    "    neural_network.compile(\n",
    "        loss='mean_squared_error',\n",
    "        optimizer=tf.keras.optimizers.Adam(learning_rate)\n",
    "    )\n",
    "\n",
    "    # Entrenamiento del modelo.\n",
    "    neural_network.fit(X_train, y_train, batch_size=batch_size, epochs=epochs, verbose=0)\n",
    "\n",
    "    # Evaluación del modelo en el conjunto de prueba.\n",
    "    val_loss = neural_network.evaluate(X_test, y_test, verbose=0)\n",
    "\n",
    "    # Actualización de los mejores parámetros si la pérdida actual es menor.\n",
    "    if val_loss < best_loss:\n",
    "        best_loss = val_loss\n",
    "        best_params = (neurons, learning_rate, batch_size, epochs)\n",
    "\n",
    "# Impresión de los mejores parámetros.\n",
    "print(f\"Best Parameters: Neurons={best_params[0]}, Learning Rate={best_params[1]}, Batch Size={best_params[2]}, Epochs={best_params[3]}\")\n",
    "print(f\"Best Validation Loss: {best_loss}\")"
   ]
  },
  {
   "cell_type": "code",
   "execution_count": 14,
   "id": "57bc5677-f5ec-405d-a015-27566bfb87cb",
   "metadata": {},
   "outputs": [
    {
     "data": {
      "text/plain": [
       "0.27947139739990234"
      ]
     },
     "execution_count": 14,
     "metadata": {},
     "output_type": "execute_result"
    }
   ],
   "source": [
    "# Entrenamos un modelo final con los mejores parámetros encontrados\n",
    "neural_network = tf.keras.Sequential([\n",
    "    tf.keras.Input(shape=(X_test.shape[1],)),\n",
    "    tf.keras.layers.Dense(20, activation='relu', kernel_initializer=tf.keras.initializers.HeNormal(seed=seed)),\n",
    "    tf.keras.layers.Dense(20, activation='relu', kernel_initializer=tf.keras.initializers.HeNormal(seed=seed)),\n",
    "    tf.keras.layers.Dense(1, kernel_initializer=tf.keras.initializers.HeNormal(seed=seed))\n",
    "])\n",
    "\n",
    "neural_network.compile(\n",
    "    loss='mean_squared_error',\n",
    "    optimizer=tf.keras.optimizers.Adam(learning_rate=0.1)\n",
    ")\n",
    "\n",
    "# Entrenamos el modelo final y almacenamos su historial\n",
    "history = neural_network.fit(X_train, y_train, batch_size=16, epochs=75, verbose=0)\n",
    "\n",
    "# Evaluamos el modelo final en el conjunto de prueba\n",
    "neural_network.evaluate(X_test, y_test, verbose=0)"
   ]
  },
  {
   "cell_type": "code",
   "execution_count": null,
   "id": "ea0e54e0-eef8-4f96-9088-3795ea600b4e",
   "metadata": {},
   "outputs": [],
   "source": []
  }
 ],
 "metadata": {
  "kernelspec": {
   "display_name": "Python 3 (ipykernel)",
   "language": "python",
   "name": "python3"
  },
  "language_info": {
   "codemirror_mode": {
    "name": "ipython",
    "version": 3
   },
   "file_extension": ".py",
   "mimetype": "text/x-python",
   "name": "python",
   "nbconvert_exporter": "python",
   "pygments_lexer": "ipython3",
   "version": "3.10.1"
  }
 },
 "nbformat": 4,
 "nbformat_minor": 5
}
