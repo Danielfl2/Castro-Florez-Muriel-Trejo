{
 "cells": [
  {
   "cell_type": "code",
   "execution_count": 1,
   "id": "599e020c-e987-496b-aca4-ff551f4c5872",
   "metadata": {},
   "outputs": [],
   "source": [
    "import pandas as pd\n",
    "import numpy as np\n",
    "import tensorflow as tf\n",
    "import random as rn\n",
    "import seaborn as sns\n",
    "import matplotlib.pyplot as plt\n",
    "from sklearn.model_selection import train_test_split\n",
    "from itertools import product\n",
    "\n",
    "market_data = pd.read_excel(r'real-estate-valuation.xlsx')"
   ]
  },
  {
   "cell_type": "code",
   "execution_count": 2,
   "id": "1d9f492c-22cc-4ed3-9c7f-9855288e5975",
   "metadata": {},
   "outputs": [],
   "source": [
    "market_data = market_data.rename(columns={'X1 transaction date': 'transaction date',                 \n",
    "                                          'X2 house age': 'house age',                            \n",
    "                                          'X3 distance to the nearest MRT station': 'distance to the nearest MRT station',\n",
    "                                          'X4 number of convenience stores': 'number of convenience stores',\n",
    "                                          'X5 latitude': 'latitude',                \n",
    "                                          'X6 longitude': 'longitude',                 \n",
    "                                          'Y house price of unit area': 'house price of unit area'})"
   ]
  },
  {
   "cell_type": "code",
   "execution_count": 3,
   "id": "abbef899-a5b1-4103-8985-5b148f299f57",
   "metadata": {},
   "outputs": [
    {
     "name": "stdout",
     "output_type": "stream",
     "text": [
      "<class 'pandas.core.frame.DataFrame'>\n",
      "RangeIndex: 414 entries, 0 to 413\n",
      "Data columns (total 8 columns):\n",
      " #   Column                               Non-Null Count  Dtype  \n",
      "---  ------                               --------------  -----  \n",
      " 0   No                                   414 non-null    int64  \n",
      " 1   transaction date                     414 non-null    float64\n",
      " 2   house age                            414 non-null    float64\n",
      " 3   distance to the nearest MRT station  414 non-null    float64\n",
      " 4   number of convenience stores         414 non-null    int64  \n",
      " 5   latitude                             414 non-null    float64\n",
      " 6   longitude                            414 non-null    float64\n",
      " 7   house price of unit area             414 non-null    float64\n",
      "dtypes: float64(6), int64(2)\n",
      "memory usage: 26.0 KB\n",
      "None\n",
      "   No  transaction date  house age  distance to the nearest MRT station  \\\n",
      "0   1       2012.916667       32.0                             84.87882   \n",
      "1   2       2012.916667       19.5                            306.59470   \n",
      "2   3       2013.583333       13.3                            561.98450   \n",
      "3   4       2013.500000       13.3                            561.98450   \n",
      "4   5       2012.833333        5.0                            390.56840   \n",
      "\n",
      "   number of convenience stores  latitude  longitude  house price of unit area  \n",
      "0                            10  24.98298  121.54024                      37.9  \n",
      "1                             9  24.98034  121.53951                      42.2  \n",
      "2                             5  24.98746  121.54391                      47.3  \n",
      "3                             5  24.98746  121.54391                      54.8  \n",
      "4                             5  24.97937  121.54245                      43.1  \n",
      "               No  transaction date   house age  \\\n",
      "count  414.000000        414.000000  414.000000   \n",
      "mean   207.500000       2013.148953   17.712560   \n",
      "std    119.655756          0.281995   11.392485   \n",
      "min      1.000000       2012.666667    0.000000   \n",
      "25%    104.250000       2012.916667    9.025000   \n",
      "50%    207.500000       2013.166667   16.100000   \n",
      "75%    310.750000       2013.416667   28.150000   \n",
      "max    414.000000       2013.583333   43.800000   \n",
      "\n",
      "       distance to the nearest MRT station  number of convenience stores  \\\n",
      "count                           414.000000                    414.000000   \n",
      "mean                           1083.885689                      4.094203   \n",
      "std                            1262.109595                      2.945562   \n",
      "min                              23.382840                      0.000000   \n",
      "25%                             289.324800                      1.000000   \n",
      "50%                             492.231300                      4.000000   \n",
      "75%                            1454.279000                      6.000000   \n",
      "max                            6488.021000                     10.000000   \n",
      "\n",
      "         latitude   longitude  house price of unit area  \n",
      "count  414.000000  414.000000                414.000000  \n",
      "mean    24.969030  121.533361                 37.980193  \n",
      "std      0.012410    0.015347                 13.606488  \n",
      "min     24.932070  121.473530                  7.600000  \n",
      "25%     24.963000  121.528085                 27.700000  \n",
      "50%     24.971100  121.538630                 38.450000  \n",
      "75%     24.977455  121.543305                 46.600000  \n",
      "max     25.014590  121.566270                117.500000  \n"
     ]
    }
   ],
   "source": [
    "print(market_data.info())\n",
    "print(market_data.head())\n",
    "print(market_data.describe())"
   ]
  },
  {
   "cell_type": "code",
   "execution_count": 4,
   "id": "eab612e8-bcdf-4a4f-955e-3da93811f7f2",
   "metadata": {},
   "outputs": [],
   "source": [
    "seed = 1\n",
    "tf.random.set_seed(seed)\n",
    "rn.seed(seed)\n",
    "np.random.seed(seed)\n",
    "tf.config.experimental.enable_op_determinism()"
   ]
  },
  {
   "cell_type": "code",
   "execution_count": 5,
   "id": "57bc5677-f5ec-405d-a015-27566bfb87cb",
   "metadata": {},
   "outputs": [],
   "source": [
    "X = market_data.drop(['No'], axis=1)\n",
    "y = market_data['house price of unit area']\n",
    "X_train, X_test, y_train, y_test = train_test_split(X, y, test_size=0.2, random_state=seed)"
   ]
  },
  {
   "cell_type": "code",
   "execution_count": 6,
   "id": "2f5f4913-5f15-4a2c-a53a-fc205082e5a4",
   "metadata": {},
   "outputs": [
    {
     "name": "stdout",
     "output_type": "stream",
     "text": [
      "Best Parameters: Neurons=20, Learning Rate=0.1, Batch Size=16, Epochs=75\n",
      "Best Validation Loss: 0.27947139739990234\n"
     ]
    }
   ],
   "source": [
    "neurons_list = [20, 30, 40, 50, 60]\n",
    "learning_rate_list = [0.001, 0.01, 0.1]\n",
    "batch_size_list = [16, 32, 64]\n",
    "epochs_list = [25, 50, 75, 100]\n",
    "\n",
    "param_grid = list(product(neurons_list, learning_rate_list, batch_size_list, epochs_list))\n",
    "\n",
    "best_params = None\n",
    "best_loss = np.inf\n",
    "\n",
    "for neurons, learning_rate, batch_size, epochs in param_grid:\n",
    "    neural_network = tf.keras.Sequential([\n",
    "        tf.keras.Input(shape=(X_train.shape[1],)),\n",
    "        tf.keras.layers.Dense(neurons, activation='relu', kernel_initializer=tf.keras.initializers.HeNormal(seed=seed)),\n",
    "        tf.keras.layers.Dense(neurons, activation='relu', kernel_initializer=tf.keras.initializers.HeNormal(seed=seed)),\n",
    "        tf.keras.layers.Dense(1, kernel_initializer=tf.keras.initializers.HeNormal(seed=seed))\n",
    "    ])\n",
    "\n",
    "    neural_network.compile(\n",
    "        loss='mean_squared_error',\n",
    "        optimizer=tf.keras.optimizers.Adam(learning_rate)\n",
    "    )\n",
    "    \n",
    "    neural_network.fit(X_train, y_train, batch_size=batch_size, epochs=epochs, verbose=0)\n",
    "\n",
    "    val_loss = neural_network.evaluate(X_test, y_test, verbose=0)\n",
    "\n",
    "    if val_loss < best_loss:\n",
    "        best_loss = val_loss\n",
    "        best_params = (neurons, learning_rate, batch_size, epochs)\n",
    "\n",
    "print(f\"Best Parameters: Neurons={best_params[0]}, Learning Rate={best_params[1]}, Batch Size={best_params[2]}, Epochs={best_params[3]}\")\n",
    "print(f\"Best Validation Loss: {best_loss}\")"
   ]
  },
  {
   "cell_type": "code",
   "execution_count": 7,
   "id": "f576d068-1d16-46b1-97ad-70ef082947ae",
   "metadata": {},
   "outputs": [],
   "source": [
    "neural_network = tf.keras.Sequential([\n",
    "    tf.keras.Input(shape=(X_test.shape[1],)),\n",
    "    tf.keras.layers.Dense(20, activation='relu', kernel_initializer=tf.keras.initializers.HeNormal(seed=seed)),\n",
    "    tf.keras.layers.Dense(20, activation='relu', kernel_initializer=tf.keras.initializers.HeNormal(seed=seed)),\n",
    "    tf.keras.layers.Dense(1, kernel_initializer=tf.keras.initializers.HeNormal(seed=seed))\n",
    "])\n",
    "\n",
    "neural_network.compile(\n",
    "    loss='mean_squared_error',\n",
    "    optimizer=tf.keras.optimizers.Adam(learning_rate=0.1)\n",
    ")\n",
    "\n",
    "history = neural_network.fit(X_train, y_train, batch_size=16, epochs=75, verbose=0)"
   ]
  },
  {
   "cell_type": "code",
   "execution_count": 10,
   "id": "859c6659-c289-44b3-8926-a4f9a211cef8",
   "metadata": {},
   "outputs": [
    {
     "data": {
      "text/plain": [
       "0.27947139739990234"
      ]
     },
     "execution_count": 10,
     "metadata": {},
     "output_type": "execute_result"
    }
   ],
   "source": [
    "neural_network.evaluate(X_test, y_test, verbose=0)"
   ]
  },
  {
   "cell_type": "code",
   "execution_count": null,
   "id": "ea0e54e0-eef8-4f96-9088-3795ea600b4e",
   "metadata": {},
   "outputs": [],
   "source": []
  }
 ],
 "metadata": {
  "kernelspec": {
   "display_name": "Python 3 (ipykernel)",
   "language": "python",
   "name": "python3"
  },
  "language_info": {
   "codemirror_mode": {
    "name": "ipython",
    "version": 3
   },
   "file_extension": ".py",
   "mimetype": "text/x-python",
   "name": "python",
   "nbconvert_exporter": "python",
   "pygments_lexer": "ipython3",
   "version": "3.10.1"
  }
 },
 "nbformat": 4,
 "nbformat_minor": 5
}
